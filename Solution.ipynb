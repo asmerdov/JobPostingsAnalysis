{
 "cells": [
  {
   "cell_type": "code",
   "execution_count": 2,
   "metadata": {},
   "outputs": [],
   "source": [
    "import pandas as pd\n",
    "from main import generate_count_matrix, generate_reweighted_count_matrix, clusterize, interpret_results"
   ]
  },
  {
   "cell_type": "markdown",
   "metadata": {},
   "source": [
    "Please find exact implementations in module ```main.py```."
   ]
  },
  {
   "cell_type": "code",
   "execution_count": 3,
   "metadata": {},
   "outputs": [],
   "source": [
    "df = pd.read_csv('data/data_scientist_united_states_job_postings.csv')\n",
    "df = df[['job_description']]"
   ]
  },
  {
   "cell_type": "markdown",
   "metadata": {},
   "source": [
    "Extracting skill required from each position and counter the number of appeareances in ```count_matrix```:"
   ]
  },
  {
   "cell_type": "code",
   "execution_count": 4,
   "metadata": {},
   "outputs": [],
   "source": [
    "count_matrix = generate_count_matrix(df)"
   ]
  },
  {
   "cell_type": "markdown",
   "metadata": {},
   "source": [
    "Using TF-IDF to get a more balanced matrix ```reweighted_count_matrix```:"
   ]
  },
  {
   "cell_type": "code",
   "execution_count": 5,
   "metadata": {},
   "outputs": [],
   "source": [
    "reweighted_count_matrix = generate_reweighted_count_matrix(count_matrix)"
   ]
  },
  {
   "cell_type": "markdown",
   "metadata": {},
   "source": [
    "Running a simple clusterization algorithm on the top of it:"
   ]
  },
  {
   "cell_type": "code",
   "execution_count": 6,
   "metadata": {},
   "outputs": [],
   "source": [
    "clusters = clusterize(reweighted_count_matrix, n_clusters=10)"
   ]
  },
  {
   "cell_type": "markdown",
   "metadata": {},
   "source": [
    "Extracting the most popular keywords for each cluster:"
   ]
  },
  {
   "cell_type": "code",
   "execution_count": 7,
   "metadata": {},
   "outputs": [],
   "source": [
    "keywords4clusters = interpret_results(clusters, count_matrix, top_keywords=10)"
   ]
  },
  {
   "cell_type": "code",
   "execution_count": 8,
   "metadata": {},
   "outputs": [
    {
     "name": "stdout",
     "output_type": "stream",
     "text": [
      "0 ['big', 'stream', 'sql', 'implement', 'queri', 'storag', 'log', 'mapreduc', 'convers', 'hbase']\n",
      "1 ['scienc', 'machin', 'statist', 'comput', 'model', 'python', 'develop', 'relat', 'engin', 'analyt']\n",
      "2 ['python', 'machin', 'scientist', 'model', 'scienc', 'sql', 'develop', 'analyt', 'job', 'R']\n",
      "3 ['team', 'busi', 'scienc', 'analyt', 'product', 'develop', 'model', 'commun', 'statist', 'machin']\n",
      "4 ['scienc', 'develop', 'degre', 'applic', 'analyt', 'relat', 'statist', 'posit', 'qualif', 'comput']\n",
      "5 ['analyt', 'busi', 'statist', 'model', 'develop', 'analysi', 'commun', 'manag', 'scienc', 'degre']\n",
      "6 ['scientist', 'pleas', 'In', 'appli', 'machin', 'need', 'python', 'today', 'posit', 'If']\n",
      "7 ['manipul', 'deploy', 'engin', 'research', 'identif', 'python', 'sql', 'solv', 'downstream', 'R']\n",
      "8 ['analyt', 'tool', 'technic', 'train', 'access', 'scienc', 'analysi', 'build', 'present', 'tableau']\n",
      "9 ['statist', 'model', 'machin', 'analyt', 'techniqu', 'busi', 'scienc', 'analysi', 'python', 'develop']\n"
     ]
    }
   ],
   "source": [
    "for n, item in enumerate(keywords4clusters):\n",
    "    print(n, item)"
   ]
  },
  {
   "cell_type": "markdown",
   "metadata": {},
   "source": [
    "Skills required for the 10 clusters are presented above. They can be described as follows:\n",
    "\n",
    "0. Big-data engineer (mapreduce, sql, big, query)\n",
    "1. Python machine learning developer (machine, model, analyt)\n",
    "2. The same as 1, but R and SQL required\n",
    "3. Business-oriented data scientist (business, product, analytics)\n",
    "4. The same as 3, but more like developer\n",
    "5. Data science manager (manage, communicate, business)\n",
    "6. Junk cluster.\n",
    "7. Data engineer (deploy, engineer, downstream)\n",
    "8. Business-oriented data scientist (tableau, present, access)\n",
    "9. Python machine learning developer (model, machine, python, develop). Similar to 1.\n"
   ]
  }
 ],
 "metadata": {
  "kernelspec": {
   "display_name": "Python 3",
   "language": "python",
   "name": "python3"
  },
  "language_info": {
   "codemirror_mode": {
    "name": "ipython",
    "version": 3
   },
   "file_extension": ".py",
   "mimetype": "text/x-python",
   "name": "python",
   "nbconvert_exporter": "python",
   "pygments_lexer": "ipython3",
   "version": "3.7.4"
  }
 },
 "nbformat": 4,
 "nbformat_minor": 2
}
